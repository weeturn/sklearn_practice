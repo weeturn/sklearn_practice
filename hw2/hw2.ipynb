{
 "cells": [
  {
   "cell_type": "code",
   "execution_count": 42,
   "metadata": {},
   "outputs": [
    {
     "name": "stdout",
     "output_type": "stream",
     "text": [
      "[0, 1, 0, 0, 0, 0, 0, 0, 0, 0, 1, 0, 0, 0, 1, 0, 0, 0, 0, 0, 0, 0, 1, 0, 0, 0, 1, 0, 0, 0, 0, 0, 0, 0, 0, 0, 1, 0, 0, 1, 0, 0, 0, 0, 1, 0, 0, 0, 0, 0, 0, 0, 0, 0, 0, 1, 0, 0, 0, 0, 0, 0, 0, 0, 0, 0, 0, 0, 0, 1, 0, 0, 0, 0, 1, 0, 0, 0, 1, 0, 0, 0, 0, 0, 0, 0, 1, 0, 0, 0, 0, 0, 0, 1, 0, 0, 0, 1, 0, 0, 0, 1, 0, 0, 0, 0, 0, 0, 0, 0, 0, 0, 0, 0, 0, 0, 1, 0, 0, 1, 0, 0, 0, 0, 0, 0, 0, 0, 0, 0, 0, 0, 0, 0, 0, 0, 0, 0, 0, 0, 0, 0, 0, 1, 0, 0, 1, 0, 0, 0, 0, 0, 0, 0, 0, 0, 0, 0, 0, 0, 0, 0, 0, 1, 0, 1, 0, 0, 0, 0, 0, 0, 0, 0, 0, 0, 0, 0, 1, 0, 1, 0, 0, 0, 0, 0, 0, 0, 0, 0, 0, 0, 0, 0, 1, 0, 0, 1, 1, 0, 0, 0, 0, 0, 0, 1, 0, 0, 0, 0, 1, 0, 0, 0, 0, 0, 0, 0, 0, 0, 0, 0, 0, 0, 0, 0, 0, 0, 0, 0, 0, 0, 0, 0, 0, 0, 0, 0, 1, 0, 0, 0, 0, 0, 0, 0, 0, 0, 0, 0, 0, 0, 0, 1, 1, 0, 0, 1, 0, 1, 0, 0, 0, 0, 0, 0, 0, 0, 0, 0, 0, 0, 0, 0, 0, 0, 0, 0, 0, 0, 1, 0, 0, 0, 0, 0, 0, 0, 0, 0, 0, 0, 0, 0, 1, 0, 0, 0, 0, 0]\n"
     ]
    }
   ],
   "source": [
    "import pandas as pd\n",
    "import numpy as np\n",
    "from sklearn.cluster import KMeans\n",
    "\n",
    "# 讀train set做kmeans\n",
    "data = pd.read_csv(\"data.csv\", header=0, skip_blank_lines=True) \n",
    "data = data.drop('id', axis = 1) #拿掉id\n",
    "kmeans_fit1 = KMeans(n_clusters=12).fit(data)\n",
    "kmeans_fit2 = KMeans(n_clusters=12).fit(data)\n",
    "kmeans_fit3 = KMeans(n_clusters=12).fit(data)\n",
    "\n",
    "# print分群結果\n",
    "cluster_labels1 = kmeans_fit1.labels_\n",
    "cluster_labels2 = kmeans_fit2.labels_\n",
    "cluster_labels3 = kmeans_fit3.labels_\n",
    "\n",
    "# 讀test set\n",
    "test = pd.read_csv(\"test.csv\", header=0, skip_blank_lines=True)\n",
    "test = test.drop('index', axis = 1)\n",
    "\n",
    "\n",
    "ans = []\n",
    "\n",
    "for i in range(300):\n",
    "    if cluster_labels1[test.iloc[i][0]] == cluster_labels1[test.iloc[i][1]]:\n",
    "        temp1 = 1\n",
    "    else:\n",
    "        temp1 = 0\n",
    "    \n",
    "    if cluster_labels2[test.iloc[i][0]] == cluster_labels2[test.iloc[i][1]]:\n",
    "        temp2 = 1\n",
    "    else:\n",
    "        temp2 = 0\n",
    "    \n",
    "    if cluster_labels3[test.iloc[i][0]] == cluster_labels3[test.iloc[i][1]]:\n",
    "        temp3 = 1\n",
    "    else:\n",
    "        temp3 = 0\n",
    "        \n",
    "    if ((temp1+temp2+temp3) >= 2):\n",
    "        ans.append(1)\n",
    "    else:\n",
    "        ans.append(0)\n",
    "    \n",
    "print(ans)\n",
    "\n",
    "\n",
    "ansWithIndex = pd.read_csv(\"submission.csv\", header=0, skip_blank_lines=True)\n",
    "ansWithIndex['ans'] = ans\n",
    "ansWithIndex.to_csv('result1.csv', index=False)"
   ]
  }
 ],
 "metadata": {
  "kernelspec": {
   "display_name": "Python 3",
   "language": "python",
   "name": "python3"
  },
  "language_info": {
   "codemirror_mode": {
    "name": "ipython",
    "version": 3
   },
   "file_extension": ".py",
   "mimetype": "text/x-python",
   "name": "python",
   "nbconvert_exporter": "python",
   "pygments_lexer": "ipython3",
   "version": "3.6.8"
  }
 },
 "nbformat": 4,
 "nbformat_minor": 2
}
